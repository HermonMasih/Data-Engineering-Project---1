{
 "cells": [
  {
   "cell_type": "markdown",
   "metadata": {},
   "source": [
    "#### Day:1 - Database connection using psycopg2 and creating the data models."
   ]
  },
  {
   "cell_type": "code",
   "execution_count": 2,
   "metadata": {},
   "outputs": [],
   "source": [
    "import psycopg2 as p"
   ]
  },
  {
   "cell_type": "code",
   "execution_count": 3,
   "metadata": {},
   "outputs": [
    {
     "name": "stdout",
     "output_type": "stream",
     "text": [
      "Opened database successfully\n"
     ]
    }
   ],
   "source": [
    "# Connect to an existing database\n",
    "try:\n",
    "    conn = p.connect(database=\"postgres\", user=\"postgres\", password=\"root\", host=\"127.0.0.1\", port=\"5432\")\n",
    "    print(\"Opened database successfully\")\n",
    "except Exception as e:\n",
    "    print(f\"Unable to open database: {e}\")"
   ]
  },
  {
   "cell_type": "code",
   "execution_count": 5,
   "metadata": {},
   "outputs": [],
   "source": [
    "# Initialize a cursor object\n",
    "try:\n",
    "    cur=conn.cursor()\n",
    "    conn.set_session(autocommit=True)\n",
    "except Exception as e:\n",
    "    print(f\"Unable to initialize cursor: {e}\")"
   ]
  },
  {
   "cell_type": "code",
   "execution_count": 6,
   "metadata": {},
   "outputs": [
    {
     "name": "stdout",
     "output_type": "stream",
     "text": [
      "Database created successfully\n"
     ]
    }
   ],
   "source": [
    "# creating  user defined database\n",
    "try:\n",
    "    cur.execute(\"CREATE DATABASE mydb\")\n",
    "    print(\"Database created successfully\")\n",
    "except Exception as e:\n",
    "    print(f\"Unable to create database: {e}\")"
   ]
  },
  {
   "cell_type": "code",
   "execution_count": 7,
   "metadata": {},
   "outputs": [],
   "source": [
    "cur.close()\n",
    "conn.close()"
   ]
  },
  {
   "cell_type": "code",
   "execution_count": null,
   "metadata": {},
   "outputs": [],
   "source": [
    "# Connect to an new database mydb\n",
    "try:\n",
    "    conn = p.connect(database=\"postgres\", user=\"postgres\", password=\"root\", host=\"127.0.0.1\", port=\"5432\")\n",
    "    print(\"Opened database successfully\")\n",
    "except Exception as e:\n",
    "    print(f\"Unable to open database: {e}\")"
   ]
  }
 ],
 "metadata": {
  "kernelspec": {
   "display_name": "Python 3",
   "language": "python",
   "name": "python3"
  },
  "language_info": {
   "codemirror_mode": {
    "name": "ipython",
    "version": 3
   },
   "file_extension": ".py",
   "mimetype": "text/x-python",
   "name": "python",
   "nbconvert_exporter": "python",
   "pygments_lexer": "ipython3",
   "version": "3.11.9"
  }
 },
 "nbformat": 4,
 "nbformat_minor": 2
}
