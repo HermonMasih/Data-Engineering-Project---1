{
 "cells": [
  {
   "cell_type": "markdown",
   "metadata": {},
   "source": [
    "#### Day:1 - Database connection using psycopg2 and creating the data models."
   ]
  },
  {
   "cell_type": "code",
   "execution_count": 1,
   "metadata": {},
   "outputs": [],
   "source": [
    "import psycopg2 as p"
   ]
  },
  {
   "cell_type": "code",
   "execution_count": 2,
   "metadata": {},
   "outputs": [
    {
     "name": "stdout",
     "output_type": "stream",
     "text": [
      "Opened database successfully\n"
     ]
    }
   ],
   "source": [
    "# Connect to an existing database\n",
    "try:\n",
    "    conn = p.connect(database=\"postgres\", user=\"postgres\", password=\"root\", host=\"127.0.0.1\", port=\"5432\")\n",
    "    print(\"Opened database successfully\")\n",
    "except Exception as e:\n",
    "    print(f\"Unable to open database: {e}\")"
   ]
  },
  {
   "cell_type": "code",
   "execution_count": 3,
   "metadata": {},
   "outputs": [],
   "source": [
    "# Initialize a cursor object\n",
    "try:\n",
    "    cur=conn.cursor()\n",
    "    conn.set_session(autocommit=True)\n",
    "except Exception as e:\n",
    "    print(f\"Unable to initialize cursor: {e}\")"
   ]
  },
  {
   "cell_type": "code",
   "execution_count": 4,
   "metadata": {},
   "outputs": [
    {
     "name": "stdout",
     "output_type": "stream",
     "text": [
      "Unable to create database: database \"mydb\" already exists\n",
      "\n"
     ]
    }
   ],
   "source": [
    "# creating  user defined database\n",
    "try:\n",
    "    cur.execute(\"CREATE DATABASE mydb\")\n",
    "    print(\"Database created successfully\")\n",
    "except Exception as e:\n",
    "    print(f\"Unable to create database: {e}\")"
   ]
  },
  {
   "cell_type": "code",
   "execution_count": 5,
   "metadata": {},
   "outputs": [],
   "source": [
    "cur.close()\n",
    "conn.close()"
   ]
  },
  {
   "cell_type": "code",
   "execution_count": 6,
   "metadata": {},
   "outputs": [
    {
     "name": "stdout",
     "output_type": "stream",
     "text": [
      "Opened database successfully\n"
     ]
    }
   ],
   "source": [
    "# Connect to an new database mydb\n",
    "try:\n",
    "    conn = p.connect(database=\"mydb\", user=\"postgres\", password=\"root\", host=\"127.0.0.1\", port=\"5432\")\n",
    "    print(\"Opened database successfully\")\n",
    "except Exception as e:\n",
    "    print(f\"Unable to open database: {e}\")"
   ]
  },
  {
   "cell_type": "code",
   "execution_count": 7,
   "metadata": {},
   "outputs": [],
   "source": [
    "# creating a cursor on top of the newly created db\n",
    "try:\n",
    "    cur = conn.cursor()\n",
    "    conn.set_session(autocommit=True)\n",
    "except Exception as e:\n",
    "    print(f'failed to intialize cursor: {e}')"
   ]
  },
  {
   "cell_type": "code",
   "execution_count": 9,
   "metadata": {},
   "outputs": [],
   "source": [
    "# Creating the first table in mydb\n",
    "try:\n",
    "    cur.execute(\"\"\"CREATE TABLE employee(\n",
    "                        id int,\n",
    "                        name varchar(10),\n",
    "                        location varchar(200),\n",
    "                        salary int);\"\"\")\n",
    "except Exception as e:\n",
    "    print(f\"failed to create the table: {e}\")"
   ]
  },
  {
   "cell_type": "code",
   "execution_count": 14,
   "metadata": {},
   "outputs": [],
   "source": [
    "# Insert data in employee table\n",
    "try:\n",
    "    cur.execute(\"\"\"INSERT INTO employee\n",
    "                    VALUES(%s,%s,%s,%s);\"\"\",\n",
    "                    (1,'Hermon M','Kolkata',70000))\n",
    "except Exception as e:\n",
    "    print(f\"failed to insert data into table: {e}\")"
   ]
  },
  {
   "cell_type": "code",
   "execution_count": 18,
   "metadata": {},
   "outputs": [
    {
     "name": "stdout",
     "output_type": "stream",
     "text": [
      "<class 'list'>\n"
     ]
    }
   ],
   "source": [
    "cur.execute('select * from employee')\n",
    "cur.fetchall()\n",
    "print(type(cur.fetchall()))"
   ]
  },
  {
   "cell_type": "code",
   "execution_count": 20,
   "metadata": {},
   "outputs": [],
   "source": [
    "# closing the connection\n",
    "cur.close()\n",
    "conn.close()"
   ]
  },
  {
   "cell_type": "code",
   "execution_count": null,
   "metadata": {},
   "outputs": [],
   "source": [
    "# EndS"
   ]
  }
 ],
 "metadata": {
  "kernelspec": {
   "display_name": "Python 3",
   "language": "python",
   "name": "python3"
  },
  "language_info": {
   "codemirror_mode": {
    "name": "ipython",
    "version": 3
   },
   "file_extension": ".py",
   "mimetype": "text/x-python",
   "name": "python",
   "nbconvert_exporter": "python",
   "pygments_lexer": "ipython3",
   "version": "3.11.9"
  }
 },
 "nbformat": 4,
 "nbformat_minor": 2
}
